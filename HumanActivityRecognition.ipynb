{
  "nbformat": 4,
  "nbformat_minor": 0,
  "metadata": {
    "colab": {
      "name": "HumanActivityRecognition.ipynb",
      "provenance": [],
      "collapsed_sections": [],
      "machine_shape": "hm"
    },
    "kernelspec": {
      "name": "python3",
      "display_name": "Python 3"
    },
    "accelerator": "GPU"
  },
  "cells": [
    {
      "cell_type": "markdown",
      "metadata": {
        "id": "UNNusJr4tHP0"
      },
      "source": [
        "# Human Activity Recognition with Fast.ai v2"
      ]
    },
    {
      "cell_type": "markdown",
      "metadata": {
        "id": "-u7Gf-kVtJx5"
      },
      "source": [
        "##**01. Overview**\n",
        "\n",
        "\n",
        "\n"
      ]
    },
    {
      "cell_type": "markdown",
      "metadata": {
        "id": "zFgt96k4jyNq"
      },
      "source": [
        "####Environment Setup"
      ]
    },
    {
      "cell_type": "code",
      "metadata": {
        "id": "1yjVk84vkxRU"
      },
      "source": [
        "%%writefile setup.sh\n",
        "pip3 install sklearn --quiet\n",
        "pip3 install torch torchvision --quiet\n",
        "pip3 install --upgrade fastai --quiet\n",
        "wget https://archive.ics.uci.edu/ml/machine-learning-databases/00240/UCI%20HAR%20Dataset.zip\n",
        "mkdir HARDataset\n",
        "PATH=\"./HARDataset/UCI HAR Dataset/\""
      ],
      "execution_count": null,
      "outputs": []
    },
    {
      "cell_type": "code",
      "metadata": {
        "id": "Gtqg-G-Tk-Vh"
      },
      "source": [
        "!sh setup.sh"
      ],
      "execution_count": null,
      "outputs": []
    },
    {
      "cell_type": "markdown",
      "metadata": {
        "id": "tMYJ5kZ-kwEO"
      },
      "source": [
        "####Imports"
      ]
    },
    {
      "cell_type": "code",
      "metadata": {
        "id": "BwoxyBKkkFat"
      },
      "source": [
        "import zipfile\n",
        "import time\n",
        "\n",
        "from numpy import mean\n",
        "from numpy import std\n",
        "from numpy import dstack\n",
        "from pandas import read_csv\n",
        "from matplotlib import pyplot\n",
        "\n",
        "import torch \n",
        "import torch.nn as nn\n",
        "import torch.optim as optim\n",
        "from tqdm import tqdm\n",
        "from IPython.core.debugger import set_trace\n",
        "from statsmodels.graphics.tsaplots import plot_pacf\n",
        "from sklearn.metrics import accuracy_score, classification_report, confusion_matrix\n",
        "\n",
        "from fastai import *\n",
        "from fastai.text.all import *\n",
        "\n",
        "from keras.utils import to_categorical"
      ],
      "execution_count": null,
      "outputs": []
    },
    {
      "cell_type": "markdown",
      "metadata": {
        "id": "vyolI00xvAwy"
      },
      "source": [
        "####CUDA Setup"
      ]
    },
    {
      "cell_type": "code",
      "metadata": {
        "id": "4EfXUEiou4B9"
      },
      "source": [
        "if torch.cuda.is_available():       \n",
        "    device = torch.device(\"cuda\")\n",
        "    print(f'There are {torch.cuda.device_count()} GPU(s) available.')\n",
        "    print('Device name:', torch.cuda.get_device_name(0))\n",
        "\n",
        "else:\n",
        "    print('No GPU available, using the CPU instead.')\n",
        "    device = torch.device(\"cpu\")\n",
        "!nvidia-smi"
      ],
      "execution_count": null,
      "outputs": []
    },
    {
      "cell_type": "markdown",
      "metadata": {
        "id": "dkKcZJ5ouV8w"
      },
      "source": [
        "##**02. The Problem Statement**"
      ]
    },
    {
      "cell_type": "markdown",
      "metadata": {
        "id": "aVM_QmqfjHgi"
      },
      "source": [
        "##**03. The Dataset**"
      ]
    },
    {
      "cell_type": "markdown",
      "metadata": {
        "id": "_Taw2j6otpiU"
      },
      "source": [
        "\n",
        "**Hardware Used:** Samsung Galaxy S II\n",
        "\n",
        "**Experiment Design:**\n",
        "[1] Records 30 volunteer subjects, ages 19-48 years, performed six activities with mobile embedded accelerometer and gyroscope around the waist. captured 3-axial linear acceleration and 3-axial angular velocity at a constant rate of 50Hz. The obtained dataset has been randomly partitioned into two sets, where 70% of the volunteers was selected for generating the training data and 30% the test data.\n",
        "\n",
        "\n",
        "**Classes:**\n",
        "\n",
        "- **0**: Walking\n",
        "- **1**: Walking Upstairs\n",
        "- **2**: Walking Downstairs\n",
        "- **3**: Sitting \n",
        "- **4**: Standing \n",
        "- **5**: Laying \n",
        "\n",
        "\n",
        "[`[1]`](https://archive.ics.uci.edu/ml/datasets/human+activity+recognition+using+smartphones) Davide Anguita, Alessandro Ghio, Luca Oneto, Xavier Parra and Jorge L. Reyes-Ortiz. A Public Domain Dataset for Human Activity Recognition Using Smartphones. 21th European Symposium on Artificial Neural Networks, Computational Intelligence and Machine Learning, ESANN 2013. Bruges, Belgium 24-26 April 2013."
      ]
    },
    {
      "cell_type": "code",
      "metadata": {
        "id": "7H-eAOYpto4r"
      },
      "source": [
        "data_file = zipfile.ZipFile(\"/content/UCI HAR Dataset.zip\")\n",
        "data_file.extractall(\"./HARDataset/\")"
      ],
      "execution_count": null,
      "outputs": []
    },
    {
      "cell_type": "markdown",
      "metadata": {
        "id": "TJVEG4wLjV3v"
      },
      "source": [
        "####**03\\a. Data Exploration**"
      ]
    },
    {
      "cell_type": "code",
      "metadata": {
        "id": "LCkfLpO5jUS9"
      },
      "source": [
        "def load_data(filepath):\n",
        "  '''\n",
        "  '''\n",
        "  data = read_csv(filepath, header=None, delim_whitespace=True)\n",
        "  return data.values"
      ],
      "execution_count": null,
      "outputs": []
    },
    {
      "cell_type": "code",
      "metadata": {
        "id": "kFAWTqT1wdfx"
      },
      "source": [
        "data = load_file(f'{$PATH}/train/Inertial Signals/total_acc_y_train.txt')\n",
        "print(data.shape)"
      ],
      "execution_count": null,
      "outputs": []
    },
    {
      "cell_type": "markdown",
      "metadata": {
        "id": "G_e1Kws-yS9_"
      },
      "source": [
        "**Claass Distribution**\n",
        "\n",
        "Label Map:\n",
        "\n",
        "- **0**: Walking\n",
        "- **1**: Walking Upstairs\n",
        "- **2**: Walking Downstairs\n",
        "- **3**: Sitting \n",
        "- **4**: Standing \n",
        "- **5**: Laying"
      ]
    },
    {
      "cell_type": "code",
      "metadata": {
        "id": "StCl5wER5nfS"
      },
      "source": [
        "label_map  ={\n",
        "    \"0\" :\"Walking\", \n",
        "    \"1\": \"Walking Upstairs\", \n",
        "    \"2\": \"Walking Downstairs\"\n",
        "    \"3\": \"Sitting\",\n",
        "    \"4\": \"Standing\", \n",
        "    \"5\": \"Laying\"\n",
        "}"
      ],
      "execution_count": null,
      "outputs": []
    },
    {
      "cell_type": "code",
      "metadata": {
        "id": "hodA8F7EypJh"
      },
      "source": [
        "def class_breakdown(data):\n",
        "  '''\n",
        "  Summarize the balance of classes in an output variable column.\n",
        "\n",
        "  Arguments\n",
        "  ---\n",
        "  data - \n",
        "\n",
        "  '''\n",
        "\tdata_df = pd.DataFrame(data)\n",
        "\tcounts = data_df.groupby(0).size().values\n",
        "\tfor i in range(len(counts)):\n",
        "\t\tpercent = counts[i] / len(data_df) * 100\n",
        "\t\tprint(f'Class={label_map[str(i+1])}, total={counts[i]}, percentage={percent}')"
      ],
      "execution_count": null,
      "outputs": []
    },
    {
      "cell_type": "markdown",
      "metadata": {
        "id": "lDAFXMno0KA0"
      },
      "source": [
        "**Train**"
      ]
    },
    {
      "cell_type": "code",
      "metadata": {
        "id": "AwD1fKFq0K00"
      },
      "source": [
        "trainy = load_file('HARDataset/train/y_train.txt')\n",
        "print('Label Distribution - Train Dataset')\n",
        "class_breakdown(trainy)"
      ],
      "execution_count": null,
      "outputs": []
    },
    {
      "cell_type": "markdown",
      "metadata": {
        "id": "KQQ5Znwh0LYz"
      },
      "source": [
        "**Test**"
      ]
    },
    {
      "cell_type": "code",
      "metadata": {
        "id": "GLi2DbZb0MCN"
      },
      "source": [
        " \n",
        "testy = load_file('HARDataset/test/y_test.txt')\n",
        "print('Label Distribution -Test Dataset')\n",
        "class_breakdown(testy)"
      ],
      "execution_count": null,
      "outputs": []
    },
    {
      "cell_type": "markdown",
      "metadata": {
        "id": "ycLGl4og0Y1d"
      },
      "source": [
        "**All**"
      ]
    },
    {
      "cell_type": "code",
      "metadata": {
        "id": "H5N6fY440ZXT"
      },
      "source": [
        "print('Label Distribution - Both')\n",
        "combined = vstack((trainy, testy))\n",
        "class_breakdown(combined)"
      ],
      "execution_count": null,
      "outputs": []
    },
    {
      "cell_type": "markdown",
      "metadata": {
        "id": "ZEd73hcFusYz"
      },
      "source": [
        "###**03\\b. Data Preprocessing**"
      ]
    },
    {
      "cell_type": "code",
      "metadata": {
        "id": "ISUDSk36usqS"
      },
      "source": [
        "def reshape_observations(filenames):\n",
        "  '''\n",
        "  To Do: Docs\n",
        "  '''\n",
        "  observations = list()\n",
        "  for name in filenames:\n",
        "    data = load_data($PATH + name)\n",
        "    observations.append(data)\n",
        "  reshaped_obvs = dstack(observations)\n",
        "  return reshaped_obvs\n",
        "\n",
        "\n",
        "def load_data_by_split(split):\n",
        "  '''\n",
        "  To Do: Docs\n",
        "  '''\n",
        "  filepath = $PATH + split  + '/Inertial Signals/'\n",
        "  filenames = list()\n",
        "\n",
        "  filenames += ['total_acc_x_'+split+'.txt', \n",
        "                'total_acc_y_'+split+'.txt', \n",
        "                'total_acc_z_'+split+'.txt']\n",
        "\n",
        "  filenames += ['body_acc_x_'+split+'.txt', \n",
        "                'body_acc_y_'+split+'.txt',\n",
        "                'body_acc_z_'+split+'.txt']\n",
        "\n",
        "  filenames += ['body_gyro_x_'+split+'.txt', \n",
        "                'body_gyro_y_'+split+'.txt', \n",
        "                'body_gyro_z_'+split+'.txt']\n",
        "  \n",
        "  X = reshape_observations(filenames, filepath)\n",
        "  y = load_data($PATH + split + '/y_'+split+'.txt')\n",
        "  return X, y\n",
        "\n",
        "\n",
        "def load_dataset(prefix=''):\n",
        "  '''\n",
        "  To Do: Docs\n",
        "  '''\n",
        "  trainX, trainy = load_data_by_split('train', \n",
        "                                     $PATH + 'HARDataset/UCI HAR Dataset/')\n",
        "  \n",
        "  print(f\"trainX Shape: {trainX.shape}, trainy Shape: {trainy.shape}\")\n",
        "\n",
        "  testX, testy = load_data_by_split('test', \n",
        "                                    $PATH + 'HARDataset/UCI HAR Dataset/')\n",
        "  \n",
        "  print(f\"testX Shape: {testX.shape}, testy Shape: {testy.shape}\")\n",
        "  trainy = to_categorical(trainy - 1)\n",
        "  testy = to_categorical(testy - 1)\n",
        "  print(f\"trainX Shape: {trainX.shape}, trainy Shape: {trainy.shape}, testX Shape: {testX.shape}, testy: {testy.shape}\")\n",
        "  return trainX, trainy, testX, testy\n"
      ],
      "execution_count": null,
      "outputs": []
    },
    {
      "cell_type": "code",
      "metadata": {
        "colab": {
          "base_uri": "https://localhost:8080/"
        },
        "id": "DVPKzJdBy5qa",
        "outputId": "5457db72-84e5-43c8-c437-5720f1945ceb"
      },
      "source": [
        "trainX, trainy, testX, testy = load_dataset(PATH)"
      ],
      "execution_count": null,
      "outputs": [
        {
          "output_type": "stream",
          "text": [
            "(7352, 128, 9) (7352, 1)\n",
            "(2947, 128, 9) (2947, 1)\n",
            "(7352, 128, 9) (7352, 6) (2947, 128, 9) (2947, 6)\n"
          ],
          "name": "stdout"
        }
      ]
    },
    {
      "cell_type": "markdown",
      "metadata": {
        "id": "BPhrR1w8AnqI"
      },
      "source": [
        "**Split fastai style and creat Training Loaders**"
      ]
    },
    {
      "cell_type": "code",
      "metadata": {
        "id": "ad2tXGma5R5J"
      },
      "source": [
        "splits = RandomSplitter(seed=2020)(range_of(trainX))"
      ],
      "execution_count": null,
      "outputs": []
    },
    {
      "cell_type": "code",
      "metadata": {
        "id": "VU2zF6RacHRg"
      },
      "source": [
        "print(splits)"
      ],
      "execution_count": null,
      "outputs": []
    },
    {
      "cell_type": "code",
      "metadata": {
        "id": "XHtb1vyj4Vux"
      },
      "source": [
        "data = Datasets(list(range(len(trainX))), \n",
        "                [lambda i : trainX[i], \n",
        "                 lambda i : trainy[i]], \n",
        "                splits=splits)\n",
        "dls = data.dataloaders(bs=64)"
      ],
      "execution_count": null,
      "outputs": []
    },
    {
      "cell_type": "code",
      "metadata": {
        "id": "dC-GzbbmTqFn"
      },
      "source": [
        "#print(data.n)"
      ],
      "execution_count": null,
      "outputs": []
    },
    {
      "cell_type": "markdown",
      "metadata": {
        "id": "IeKvtndu2u1s"
      },
      "source": [
        "###**04. The Model**"
      ]
    },
    {
      "cell_type": "code",
      "metadata": {
        "id": "lC-4D9tH6Hy8"
      },
      "source": [
        "class HARModel(nn.Module):\n",
        "  '''\n",
        "\n",
        "  '''\n",
        "  def __init__(self, input_size, output_size):\n",
        "      super(HARModel, self).__init__()\n",
        "      self.conv1 = nn.Conv1d(input_size, 64, kernel_size=7)\n",
        "      self.conv1_bn = nn.BatchNorm1d(64)\n",
        "      self.conv2 = nn.Conv1d(64, 128, kernel_size=3)\n",
        "      self.conv2_bn = nn.BatchNorm1d(128)\n",
        "      self.conv3 = nn.Conv1d(128, 256, kernel_size=1)\n",
        "      self.conv3_bn = nn.BatchNorm1d(256)\n",
        "      self.drop = nn.Dropout(0.5)\n",
        "      self.pool = nn.AdaptiveAvgPool1d(10)\n",
        "      self.linear = nn.Linear(10*256, output_size)\n",
        "      self.linear_bn = nn.BatchNorm1d(output_size)\n",
        "      self.out = nn.Linear(output_size, output_size)\n",
        "      self.softmax = nn.Softmax(1)\n",
        "\n",
        "  def forward(self, x):\n",
        "      x = F.relu(self.conv1(x))\n",
        "      x = self.conv1_bn(x)\n",
        "      x = F.relu(self.conv2(x))\n",
        "      x = self.conv2_bn(x)\n",
        "      x = F.relu(self.conv3(x))\n",
        "      x = self.conv3_bn(x)\n",
        "      x = self.pool(x)\n",
        "      x = x.view(-1, 10*256)\n",
        "      x = F.relu(self.linear(x))\n",
        "      x = self.drop(self.linear_bn(x))\n",
        "      x = self.out(x)\n",
        "      return self.softmax(x)"
      ],
      "execution_count": null,
      "outputs": []
    },
    {
      "cell_type": "markdown",
      "metadata": {
        "id": "iGIup984JEka"
      },
      "source": [
        "**Model Params**"
      ]
    },
    {
      "cell_type": "code",
      "metadata": {
        "id": "tUkCEN057WCh"
      },
      "source": [
        "n_timesteps, n_features, n_outputs = trainX.shape[1], trainX.shape[2], trainy.shape[1]"
      ],
      "execution_count": null,
      "outputs": []
    },
    {
      "cell_type": "code",
      "metadata": {
        "id": "etAvpxgS7GgX"
      },
      "source": [
        "model = HARModel(n_timesteps, n_outputs)"
      ],
      "execution_count": null,
      "outputs": []
    },
    {
      "cell_type": "markdown",
      "metadata": {
        "id": "LyElhiB77KuN"
      },
      "source": [
        "###**05. Training with fast.ai**"
      ]
    },
    {
      "cell_type": "code",
      "metadata": {
        "id": "tta2KyEZ-PVp"
      },
      "source": [
        "learn = Learner(dls, model, loss_func=nn.MSELoss())\n",
        "learn = learn.to_fp16()"
      ],
      "execution_count": null,
      "outputs": []
    },
    {
      "cell_type": "markdown",
      "metadata": {
        "id": "lU4EFBql_R-p"
      },
      "source": [
        "**Find optimal leaarning rate**"
      ]
    },
    {
      "cell_type": "code",
      "metadata": {
        "colab": {
          "base_uri": "https://localhost:8080/",
          "height": 301
        },
        "id": "EyHzNVVU7K6v",
        "outputId": "1e3be8c7-839b-4fbf-8b89-b76f101ab10b"
      },
      "source": [
        "learn.lr_find()"
      ],
      "execution_count": null,
      "outputs": [
        {
          "output_type": "display_data",
          "data": {
            "text/html": [
              ""
            ],
            "text/plain": [
              "<IPython.core.display.HTML object>"
            ]
          },
          "metadata": {
            "tags": []
          }
        },
        {
          "output_type": "execute_result",
          "data": {
            "text/plain": [
              "SuggestedLRs(lr_min=0.06309573650360108, lr_steep=0.0003311311302240938)"
            ]
          },
          "metadata": {
            "tags": []
          },
          "execution_count": 118
        },
        {
          "output_type": "display_data",
          "data": {
            "image/png": "[encoded data removed]",
            "text/plain": [
              "<Figure size 432x288 with 1 Axes>"
            ]
          },
          "metadata": {
            "tags": [],
            "needs_background": "light"
          }
        }
      ]
    },
    {
      "cell_type": "markdown",
      "metadata": {
        "id": "B9DQACMMKtOq"
      },
      "source": [
        "**Fit.**"
      ]
    },
    {
      "cell_type": "code",
      "metadata": {
        "colab": {
          "base_uri": "https://localhost:8080/",
          "height": 647
        },
        "id": "dIa3dvBt_SNL",
        "outputId": "9ec32382-85cb-4b16-ff46-770b9a75d3e9"
      },
      "source": [
        "learn.fit_one_cycle(20, 1e-1)"
      ],
      "execution_count": null,
      "outputs": [
        {
          "output_type": "display_data",
          "data": {
            "text/html": [
              "<table border=\"1\" class=\"dataframe\">\n",
              "  <thead>\n",
              "    <tr style=\"text-align: left;\">\n",
              "      <th>epoch</th>\n",
              "      <th>train_loss</th>\n",
              "      <th>valid_loss</th>\n",
              "      <th>time</th>\n",
              "    </tr>\n",
              "  </thead>\n",
              "  <tbody>\n",
              "    <tr>\n",
              "      <td>0</td>\n",
              "      <td>0.091199</td>\n",
              "      <td>0.058522</td>\n",
              "      <td>00:01</td>\n",
              "    </tr>\n",
              "    <tr>\n",
              "      <td>1</td>\n",
              "      <td>0.075800</td>\n",
              "      <td>0.061117</td>\n",
              "      <td>00:01</td>\n",
              "    </tr>\n",
              "    <tr>\n",
              "      <td>2</td>\n",
              "      <td>0.066280</td>\n",
              "      <td>0.042817</td>\n",
              "      <td>00:02</td>\n",
              "    </tr>\n",
              "    <tr>\n",
              "      <td>3</td>\n",
              "      <td>0.063133</td>\n",
              "      <td>0.042714</td>\n",
              "      <td>00:01</td>\n",
              "    </tr>\n",
              "    <tr>\n",
              "      <td>4</td>\n",
              "      <td>0.057506</td>\n",
              "      <td>0.044891</td>\n",
              "      <td>00:01</td>\n",
              "    </tr>\n",
              "    <tr>\n",
              "      <td>5</td>\n",
              "      <td>0.050285</td>\n",
              "      <td>0.028771</td>\n",
              "      <td>00:01</td>\n",
              "    </tr>\n",
              "    <tr>\n",
              "      <td>6</td>\n",
              "      <td>0.052515</td>\n",
              "      <td>0.046820</td>\n",
              "      <td>00:01</td>\n",
              "    </tr>\n",
              "    <tr>\n",
              "      <td>7</td>\n",
              "      <td>0.047652</td>\n",
              "      <td>0.050451</td>\n",
              "      <td>00:01</td>\n",
              "    </tr>\n",
              "    <tr>\n",
              "      <td>8</td>\n",
              "      <td>0.045135</td>\n",
              "      <td>0.035472</td>\n",
              "      <td>00:02</td>\n",
              "    </tr>\n",
              "    <tr>\n",
              "      <td>9</td>\n",
              "      <td>0.043985</td>\n",
              "      <td>0.031568</td>\n",
              "      <td>00:01</td>\n",
              "    </tr>\n",
              "    <tr>\n",
              "      <td>10</td>\n",
              "      <td>0.039535</td>\n",
              "      <td>0.031448</td>\n",
              "      <td>00:01</td>\n",
              "    </tr>\n",
              "    <tr>\n",
              "      <td>11</td>\n",
              "      <td>0.038290</td>\n",
              "      <td>0.028430</td>\n",
              "      <td>00:01</td>\n",
              "    </tr>\n",
              "    <tr>\n",
              "      <td>12</td>\n",
              "      <td>0.033345</td>\n",
              "      <td>0.024601</td>\n",
              "      <td>00:02</td>\n",
              "    </tr>\n",
              "    <tr>\n",
              "      <td>13</td>\n",
              "      <td>0.033319</td>\n",
              "      <td>0.023860</td>\n",
              "      <td>00:01</td>\n",
              "    </tr>\n",
              "    <tr>\n",
              "      <td>14</td>\n",
              "      <td>0.031596</td>\n",
              "      <td>0.019711</td>\n",
              "      <td>00:02</td>\n",
              "    </tr>\n",
              "    <tr>\n",
              "      <td>15</td>\n",
              "      <td>0.030984</td>\n",
              "      <td>0.019889</td>\n",
              "      <td>00:01</td>\n",
              "    </tr>\n",
              "    <tr>\n",
              "      <td>16</td>\n",
              "      <td>0.027167</td>\n",
              "      <td>0.019948</td>\n",
              "      <td>00:02</td>\n",
              "    </tr>\n",
              "    <tr>\n",
              "      <td>17</td>\n",
              "      <td>0.024902</td>\n",
              "      <td>0.018569</td>\n",
              "      <td>00:02</td>\n",
              "    </tr>\n",
              "    <tr>\n",
              "      <td>18</td>\n",
              "      <td>0.025650</td>\n",
              "      <td>0.018500</td>\n",
              "      <td>00:01</td>\n",
              "    </tr>\n",
              "    <tr>\n",
              "      <td>19</td>\n",
              "      <td>0.025692</td>\n",
              "      <td>0.018569</td>\n",
              "      <td>00:02</td>\n",
              "    </tr>\n",
              "  </tbody>\n",
              "</table>"
            ],
            "text/plain": [
              "<IPython.core.display.HTML object>"
            ]
          },
          "metadata": {
            "tags": []
          }
        }
      ]
    },
    {
      "cell_type": "code",
      "metadata": {
        "colab": {
          "base_uri": "https://localhost:8080/",
          "height": 264
        },
        "id": "KndyySTSA2P0",
        "outputId": "bc5eb546-953e-45af-a610-62616a484b1c"
      },
      "source": [
        "learn.recorder.plot_loss()"
      ],
      "execution_count": null,
      "outputs": [
        {
          "output_type": "display_data",
          "data": {
            "image/png": "[encoded data removed]",
            "text/plain": [
              "<Figure size 432x288 with 1 Axes>"
            ]
          },
          "metadata": {
            "tags": [],
            "needs_background": "light"
          }
        }
      ]
    },
    {
      "cell_type": "code",
      "metadata": {
        "id": "VoEzgReOJ9KT"
      },
      "source": [
        "learn.save('har_model')"
      ],
      "execution_count": null,
      "outputs": []
    },
    {
      "cell_type": "markdown",
      "metadata": {
        "id": "tSNP9RJE_lpB"
      },
      "source": [
        "###**06. Inference Test**"
      ]
    },
    {
      "cell_type": "code",
      "metadata": {
        "id": "qppnQSu4d_XC"
      },
      "source": [
        "test_dl = learn.dls.test_dl(testX)"
      ],
      "execution_count": null,
      "outputs": []
    },
    {
      "cell_type": "code",
      "metadata": {
        "colab": {
          "base_uri": "https://localhost:8080/",
          "height": 34
        },
        "id": "9yj8nAF_e5QE",
        "outputId": "6a47be4a-3739-4280-e65f-e9d9c793962e"
      },
      "source": [
        "def InferenceTest(test_data, learner,):\n",
        "  '''\n",
        "  Runs inference on test data loader. return\n",
        "\n",
        "  Args\n",
        "  ------\n",
        "  test_data - DataLoader (torch)\n",
        "  learner - Learner (fastai)\n",
        "  '''\n",
        "  start = time.time()\n",
        "  preds, _ = learn.get_preds(dl=test_dl)\n",
        "  preds = [int(x) for x in (np.array(torch.argmax(preds, dim=1))) ]\n",
        "  end = time.time()\n",
        "  print(f\"Inference on {len(testX)} items took {end-start} seconds.\")\n",
        "  print(f\"Test Accuracy: {accuracy_score([np.argmax(x) for x in testy], preds)}\")\n",
        "  return preds \n",
        "\n",
        "preds = InferenceTest(test_dl, learn)"
      ],
      "execution_count": null,
      "outputs": [
        {
          "output_type": "display_data",
          "data": {
            "text/html": [
              ""
            ],
            "text/plain": [
              "<IPython.core.display.HTML object>"
            ]
          },
          "metadata": {
            "tags": []
          }
        },
        {
          "output_type": "stream",
          "text": [
            "Inference on 2947 items took 0.38579773902893066 seconds.\n"
          ],
          "name": "stdout"
        }
      ]
    },
    {
      "cell_type": "code",
      "metadata": {
        "colab": {
          "base_uri": "https://localhost:8080/"
        },
        "id": "PiNzF4qcjtxK",
        "outputId": "830b52b9-e290-40bb-cfb3-e4cc3f51ca9f"
      },
      "source": [
        "#print(f\"Test Accuracy: {accuracy_score([np.argmax(x) for x in testy], preds)}\")"
      ],
      "execution_count": null,
      "outputs": [
        {
          "output_type": "stream",
          "text": [
            "0.8856464200882254\n"
          ],
          "name": "stdout"
        }
      ]
    }
  ]
}